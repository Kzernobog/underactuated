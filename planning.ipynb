{
 "cell_type": "markdown",
 "cells": [
  {
   "cell_type": "markdown",
   "metadata": {
    "id": "EgiF12Hf1Dhs"
   },
   "source": [
    "This notebook provides examples to go along with the [textbook](http://manipulation.csail.mit.edu/trajectories.html).  I recommend having both windows open, side-by-side!"
   ]
  },
  {
   "cell_type": "code",
   "execution_count": null,
   "metadata": {
    "id": "eeMrMI0-1Dhu"
   },
   "outputs": [],
   "source": [
    "import time\n",
    "\n",
    "import numpy as np\n",
    "from IPython.display import clear_output\n",
    "from pydrake.all import (AddMultibodyPlantSceneGraph, Box, Cylinder,\n",
    "                         DiagramBuilder, InverseKinematics,\n",
    "                         MeshcatVisualizerCpp, MeshcatVisualizerParams, Parser,\n",
    "                         Rgba, RigidTransform, RollPitchYaw, RotationMatrix,\n",
    "                         Solve, Sphere, StartMeshcat)\n",
    "from pydrake.examples.manipulation_station import ManipulationStation\n",
    "\n",
    "from underactuated.scenarios import AddShape\n",
    "from underactuated import running_as_notebook"
   ]
  },
  {
   "cell_type": "code",
   "execution_count": null,
   "metadata": {},
   "outputs": [],
   "source": [
    "# Start the visualizer.\n",
    "meshcat = StartMeshcat()"
   ]
  },
  {
   "cell_type": "markdown",
   "metadata": {},
   "source": [
    "# Basic RRT\n",
    "\n",
    "Note that I've inserted a `sleep` command in the visualization to slow things down so you can watch the tree grow.\n",
    "\n",
    "TODO(russt): Consider adding the voronoi visualization, but it would add a dependency on scipy.  (That's a big dependency for a little example!)"
   ]
  },
  {
   "cell_type": "code",
   "execution_count": 43,
   "metadata": {},
   "outputs": [],
   "source": [
    "def basic_rrt():\n",
    "    N = 10000 if running_as_notebook else 3\n",
    "    Q = np.empty((N,2))\n",
    "    rng = np.random.default_rng()\n",
    "    Q[0] = rng.random((1,2))\n",
    "\n",
    "    meshcat.Delete()\n",
    "    meshcat.Set2dRenderMode(xmin=0, xmax=1, ymin=0, ymax=1)\n",
    "\n",
    "    start = np.empty((N,3))\n",
    "    end = np.empty((N,3))\n",
    "    for n in range(1,N):\n",
    "        q_sample = rng.random((1,2))[0]\n",
    "        distance_sq = np.sum((Q[:n] - q_sample)**2, axis=1)\n",
    "        closest = np.argmin(distance_sq)\n",
    "        distance = np.sqrt(distance_sq[closest])\n",
    "        if (distance > .1):\n",
    "            q_sample = (Q[closest]+(.1/distance)*(q_sample - Q[closest]))\n",
    "        start[n] = [Q[closest, 0], 0, Q[closest,1]]\n",
    "        end[n] = [q_sample[0], 0, q_sample[1]]\n",
    "        if (n < 1000 and n % 100 == 1) or n % 1000 == 1:\n",
    "            meshcat.SetLineSegments(\"rrt\", start[:n+1].T, end[:n+1].T)\n",
    "            if running_as_notebook:\n",
    "                time.sleep(0.4)  # sleep to slow things down.\n",
    "        Q[n] = q_sample\n",
    "\n",
    "basic_rrt()"
   ]
  },
  {
   "cell_type": "markdown",
   "metadata": {},
   "source": [
    "# RRT Bug trap\n",
    "\n",
    "For bonus points, I'll use SceneGraph for the collision checking.\n",
    "\n",
    "TODO(russt):\n",
    "- Take bigger steps, but check collisions at subsamples along an edge.\n",
    "- Add a goal + goal-bias\n",
    "- Make a version where the robot has geometry, and the collision checks call `plant.SetPosition()`, then `query.HasCollisions()`"
   ]
  },
  {
   "cell_type": "code",
   "execution_count": null,
   "metadata": {},
   "outputs": [],
   "source": [
    "def rrt_bugtrap():\n",
    "    builder = DiagramBuilder()\n",
    "\n",
    "    plant, scene_graph = AddMultibodyPlantSceneGraph(builder, time_step=0.001)\n",
    "    thickness = .05\n",
    "    MITred = [.6, .2, .2, 1]\n",
    "    wall = AddShape(plant, Box(.8, 1.0, thickness), \"bottom\", color=MITred)\n",
    "    plant.WeldFrames(plant.world_frame(), plant.GetFrameByName(\"bottom\", wall),\n",
    "                     RigidTransform([0.5, 0, 0.1+thickness/2]))\n",
    "    wall = AddShape(plant, Box(0.8, 1.0, thickness), \"top\", color=MITred)\n",
    "    plant.WeldFrames(plant.world_frame(), plant.GetFrameByName(\"top\", wall),\n",
    "                     RigidTransform([0.5, 0, 0.9-thickness/2]))\n",
    "    wall = AddShape(plant,\n",
    "                    Box(thickness, 1.0, .8 - thickness),\n",
    "                    \"left\",\n",
    "                    color=MITred)\n",
    "    plant.WeldFrames(plant.world_frame(), plant.GetFrameByName(\"left\", wall),\n",
    "                     RigidTransform([0.1+thickness/2, 0, 0.5]))\n",
    "    wall = AddShape(plant, Box(thickness, 1.0, .34), \"right_top\", color=MITred)\n",
    "    plant.WeldFrames(plant.world_frame(),\n",
    "                     plant.GetFrameByName(\"right_top\", wall),\n",
    "                     RigidTransform([0.9 - thickness / 2, 0, 0.9 - .17]))\n",
    "    wall = AddShape(plant,\n",
    "                    Box(thickness, 1.0, .34),\n",
    "                    \"right_bottom\",\n",
    "                    color=MITred)\n",
    "    plant.WeldFrames(plant.world_frame(),\n",
    "                     plant.GetFrameByName(\"right_bottom\", wall),\n",
    "                     RigidTransform([0.9 - thickness / 2, 0, 0.1 + .17]))\n",
    "    wall = AddShape(plant, Box(0.36, 1.0, thickness), \"trap_top\", color=MITred)\n",
    "    plant.WeldFrames(plant.world_frame(),\n",
    "                     plant.GetFrameByName(\"trap_top\", wall),\n",
    "                     RigidTransform([0.9 - .18, 0, .9 - thickness / 2 - .33]))\n",
    "    wall = AddShape(plant, Box(0.36, 1.0, thickness), \"trap_bottom\", color=MITred)\n",
    "    plant.WeldFrames(plant.world_frame(),\n",
    "                     plant.GetFrameByName(\"trap_bottom\", wall),\n",
    "                     RigidTransform([0.9 - .18, 0, .1 + thickness / 2 + .33]))\n",
    "    plant.Finalize()\n",
    "\n",
    "    meshcat.Delete()\n",
    "    meshcat.Set2dRenderMode(xmin=0, xmax=1, ymin=0, ymax=1)\n",
    "\n",
    "    visualizer = MeshcatVisualizerCpp.AddToBuilder(\n",
    "        builder, scene_graph, meshcat)\n",
    "\n",
    "    diagram = builder.Build()\n",
    "    context = diagram.CreateDefaultContext()\n",
    "    diagram.Publish(context)\n",
    "    query = scene_graph.get_query_output_port().Eval(\n",
    "        scene_graph.GetMyContextFromRoot(context))\n",
    "\n",
    "    q_init = [.3, .3]\n",
    "\n",
    "    N = 10000 if running_as_notebook else 3\n",
    "    Q = np.empty((N,2))\n",
    "    rng = np.random.default_rng()\n",
    "    Q[0] = q_init\n",
    "\n",
    "    start = np.empty((N,3))\n",
    "    end = np.empty((N,3))\n",
    "\n",
    "    max_length = thickness/4\n",
    "    n = 1\n",
    "    while n < N:\n",
    "        q_sample = rng.random((1,2))[0]\n",
    "        distance_sq = np.sum((Q[:n] - q_sample)**2, axis=1)\n",
    "        closest = np.argmin(distance_sq)\n",
    "        distance = np.sqrt(distance_sq[closest])\n",
    "        if (distance > max_length):\n",
    "            q_sample = (Q[closest]+(max_length/distance)*(q_sample - Q[closest]))\n",
    "        if query.ComputeSignedDistanceToPoint([q_sample[0], 0, q_sample[1]], 0.0):\n",
    "            # Then the sample point is in collision...\n",
    "            continue\n",
    "        start[n] = [Q[closest, 0], 0, Q[closest,1]]\n",
    "        end[n] = [q_sample[0], 0, q_sample[1]]\n",
    "        if (n < 1000 and n % 100 == 1) or n % 1000 == 1:\n",
    "            meshcat.SetLineSegments(\"rrt\", start[:n+1].T, end[:n+1].T)\n",
    "            if running_as_notebook:\n",
    "                time.sleep(0.2)  # sleep to slow things down.\n",
    "\n",
    "        Q[n] = q_sample\n",
    "        n += 1\n",
    "\n",
    "\n",
    "rrt_bugtrap()"
   ]
  },
  {
   "cell_type": "markdown",
   "metadata": {},
   "source": [
    "# RRT Pendulum"
   ]
  },
  {
   "cell_type": "code",
   "execution_count": null,
   "metadata": {},
   "outputs": [],
   "source": [
    "def sample(rng):\n",
    "    s = rng.random((1,2))[0]\n",
    "    s[0] = 2*np.pi*s[0]\n",
    "    s[1] = 8.0 * s[1] - 4.0\n",
    "    return s\n",
    "\n",
    "def inverse_dynamics_step(x,xn):\n",
    "    # m = 1, l = 1, b = 0\n",
    "    dt = 0.1\n",
    "    g = 10\n",
    "    u = (xn[1] - x[1])/dt + g*np.sin(x[0])\n",
    "    u = np.maximum(np.minimum(u, 1), -1)\n",
    "    return x + dt*np.array([x[1], u - g*np.sin(x[0])])\n",
    "\n",
    "def rrt_pendulum():\n",
    "    N = 100000 if running_as_notebook else 3\n",
    "    X = np.empty((N,2))\n",
    "    rng = np.random.default_rng()\n",
    "    X[0] = sample(rng)\n",
    "\n",
    "    meshcat.Delete()\n",
    "    meshcat.Set2dRenderMode(xmin=0, xmax=2*np.pi, ymin=-4.0, ymax=4.0)\n",
    "\n",
    "    start = np.empty((N,3))\n",
    "    end = np.empty((N,3))\n",
    "    for n in range(1,N):\n",
    "        x_sample = sample(rng)\n",
    "        X_diff = X[:n] - x_sample\n",
    "        X_diff[:,0] = X_diff[:,0] % (2*np.pi)\n",
    "        distance_sq = np.sum(X_diff**2, axis=1)\n",
    "        closest = np.argmin(distance_sq)\n",
    "        x_next = inverse_dynamics_step(X[closest], x_sample)\n",
    "        start[n] = [X[closest, 0], 0, X[closest,1]]\n",
    "        end[n] = [x_next[0], 0, x_next[1]]\n",
    "        if (n < 1000 and n % 100 == 1) or n % 1000 == 1:\n",
    "            meshcat.SetLineSegments(\"rrt\", start[:n+1].T, end[:n+1].T)\n",
    "            if running_as_notebook:\n",
    "                time.sleep(0.5)  # sleep to slow things down.\n",
    "        X[n] = x_next\n",
    "\n",
    "rrt_pendulum()"
   ]
  },
  {
   "cell_type": "code",
   "execution_count": null,
   "metadata": {},
   "outputs": [],
   "source": []
  }
 ],
 "metadata": {
  "colab": {
   "collapsed_sections": [],
   "name": "Robotic Manipulation - Motion Planning.ipynb",
   "provenance": []
  },
  "interpreter": {
   "hash": "31f2aee4e71d21fbe5cf8b01ff0e069b9275f58929596ceb00d14d90e3e16cd6"
  },
  "kernelspec": {
   "display_name": "Python 3.6.9 64-bit",
   "name": "python3"
  },
  "language_info": {
   "codemirror_mode": {
    "name": "ipython",
    "version": 3
   },
   "file_extension": ".py",
   "mimetype": "text/x-python",
   "name": "python",
   "nbconvert_exporter": "python",
   "pygments_lexer": "ipython3",
   "version": "3.9.12"
  }
 },
 "nbformat": 4,
 "nbformat_minor": 1
}
